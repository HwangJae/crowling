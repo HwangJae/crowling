{
 "metadata": {
  "language_info": {
   "codemirror_mode": {
    "name": "ipython",
    "version": 3
   },
   "file_extension": ".py",
   "mimetype": "text/x-python",
   "name": "python",
   "nbconvert_exporter": "python",
   "pygments_lexer": "ipython3",
   "version": "3.7.6-final"
  },
  "orig_nbformat": 2,
  "kernelspec": {
   "name": "python3",
   "display_name": "Python 3"
  }
 },
 "nbformat": 4,
 "nbformat_minor": 2,
 "cells": [
  {
   "cell_type": "code",
   "execution_count": 1,
   "metadata": {},
   "outputs": [],
   "source": [
    "from CrawlingNaver import naverCrawling"
   ]
  },
  {
   "cell_type": "code",
   "execution_count": 2,
   "metadata": {},
   "outputs": [],
   "source": [
    "crawling = naverCrawling()"
   ]
  },
  {
   "cell_type": "code",
   "execution_count": 3,
   "metadata": {},
   "outputs": [],
   "source": [
    "import pandas as pd"
   ]
  },
  {
   "cell_type": "code",
   "execution_count": null,
   "metadata": {},
   "outputs": [],
   "source": [
    "mList = pd.read_excel('맛집리스트_전처중.xlsx')"
   ]
  },
  {
   "cell_type": "code",
   "execution_count": 8,
   "metadata": {
    "tags": []
   },
   "outputs": [],
   "source": [
    "matList = mList['음식점'].dropna"
   ]
  },
  {
   "cell_type": "code",
   "execution_count": 9,
   "metadata": {},
   "outputs": [
    {
     "output_type": "execute_result",
     "data": {
      "text/plain": [
       "<bound method Series.dropna of 0            을지면옥 \n",
       "1        논현동 평양면옥 \n",
       "2             우래옥 \n",
       "3          봉피양 본점 \n",
       "4            필동면옥 \n",
       "           ...    \n",
       "6895         카페루고 \n",
       "6896         루하커피 \n",
       "6897        커피몽타주 \n",
       "6898      팩토리 670 \n",
       "6899       카페인 신현리\n",
       "Name: 음식점, Length: 6900, dtype: object>"
      ]
     },
     "metadata": {},
     "execution_count": 9
    }
   ],
   "source": [
    "matList\n"
   ]
  },
  {
   "cell_type": "code",
   "execution_count": null,
   "metadata": {},
   "outputs": [],
   "source": [
    "for searchKeyword in searchKeywords:\n",
    "    crawling.runCrawling(searchKeyword, osType='mac')"
   ]
  }
 ]
}