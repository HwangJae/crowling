{
 "metadata": {
  "language_info": {
   "codemirror_mode": {
    "name": "ipython",
    "version": 3
   },
   "file_extension": ".py",
   "mimetype": "text/x-python",
   "name": "python",
   "nbconvert_exporter": "python",
   "pygments_lexer": "ipython3",
   "version": "3.7.6-final"
  },
  "orig_nbformat": 2,
  "kernelspec": {
   "name": "python3",
   "display_name": "Python 3"
  }
 },
 "nbformat": 4,
 "nbformat_minor": 2,
 "cells": [
  {
   "cell_type": "code",
   "execution_count": 1,
   "metadata": {},
   "outputs": [],
   "source": [
    "from CrawlingNaver import naverCrawling"
   ]
  },
  {
   "cell_type": "code",
   "execution_count": 2,
   "metadata": {},
   "outputs": [],
   "source": [
    "crawling = naverCrawling()"
   ]
  },
  {
   "cell_type": "code",
   "execution_count": 3,
   "metadata": {},
   "outputs": [],
   "source": [
    "import pandas as pd"
   ]
  },
  {
   "cell_type": "code",
   "execution_count": 13,
   "metadata": {},
   "outputs": [],
   "source": [
    "mList = pd.read_excel('맛집리스트_전처리중.xlsx')"
   ]
  },
  {
   "cell_type": "code",
   "execution_count": 30,
   "metadata": {},
   "outputs": [
    {
     "output_type": "execute_result",
     "data": {
      "text/plain": [
       "              지역1           지역2             음식점 음식 상세 기타 Unnamed: 4\n",
       "600          주교동       을지로 4가역             보건옥       NaN        NaN\n",
       "601           저동       을지로 3가역             평래옥       NaN        NaN\n",
       "602          수유동           수유역            샘터마루       NaN        NaN\n",
       "603          대치동           한티역         외고집 설렁탕       NaN        NaN\n",
       "604          청파동         숙대입구역              더함       NaN        NaN\n",
       "605          등촌동           증미역         명랑식당 울점       NaN        NaN\n",
       "606          주교동       을지로 4가역              우래       NaN        NaN\n",
       "607          용강동           마포역            역전회관       NaN        NaN\n",
       "608          신사동          압구정역             한일관       NaN        NaN\n",
       "609          석촌동           석촌역            사계진미       NaN        NaN\n",
       "610          사당동           이수역            부엌쟁이       NaN        NaN\n",
       "611          관훈동        종로 3가역            인사면옥       NaN        NaN\n",
       "612          청담동      압구정 로데오역           장마담한우       NaN        NaN\n",
       "613          역삼동           선릉역         서울전통육개장       NaN        NaN\n",
       "614          성내동         강동구청역      서울육개장 짚불고기       NaN        NaN\n",
       "615          성내동          둔촌동역            수향식당       NaN        NaN\n",
       "616          가산동      가산디지털단지역            육개장인       NaN        NaN\n",
       "617          육대장            NaN            육대장       NaN        NaN\n",
       "618   홍익 궁중전통육개장            NaN     홍익 궁중전통육개장       NaN        NaN\n",
       "619    이화수 전통육개장            NaN      이화수 전통육개장       NaN        NaN\n",
       "620  조선의 육개장 칼국수            NaN    조선의 육개장 칼국수       NaN        NaN\n",
       "621        송추가마골            NaN          송추가마골       NaN        NaN\n",
       "622          만개장            NaN            만개장       NaN        NaN\n",
       "623          도화동           마포역           서울큰입탕       NaN        NaN\n",
       "624          충현동    충정로역, 서대문역         대원대구매운탕       NaN        NaN\n",
       "625          동교동         홍대입구역    섬소년 자연주의 매운탕       NaN        NaN\n",
       "626       한강로 1가          삼각지역            원대구탕       NaN        NaN\n",
       "627       한강로 1가          삼각지역           자원대구탕       NaN        NaN\n",
       "628       한강로 1가          삼각지역            참대구탕       NaN        NaN\n",
       "629         여의도동          여의도역           동해대구탕       NaN        NaN\n",
       "630         여의도동        국회의사당역             뒤푸리       NaN        NaN\n",
       "631         여의도동          여의도역            신송한식       NaN        NaN\n",
       "632          예지동        종로 5가역            은성횟집       NaN        NaN\n",
       "633           초동          충무로역             우정집       NaN        NaN\n",
       "634          봉천동           봉천역             갯바위       NaN        NaN\n",
       "635          논현동           논현역           세창대구탕       NaN        NaN\n",
       "636          서린동          광화문역            원대구탕       NaN        NaN\n",
       "637          성내동          둔촌동역          성내볼데기집       NaN        NaN\n",
       "638          문래동           문래역           문래대구탕       NaN        NaN\n",
       "639          용강동           마포역             참식당       NaN        NaN\n",
       "640          개포동       양재시민의숲역              미가       NaN        NaN\n",
       "641           명동           명동역            원조한치       NaN        NaN\n",
       "642          서교동           합정역           춘자대구탕       NaN        NaN\n",
       "643          동자동           서울역          맛고마대구탕       NaN        NaN\n",
       "644          신당동           신당역        양푼이 생대구탕       NaN        NaN\n",
       "645       한강로 1가          삼각지역            한강생태       NaN        NaN\n",
       "646          용강동           마포역          진미생태찌개       NaN        NaN\n",
       "647          삼성동           삼성역        아야진 생태찌개       NaN        NaN\n",
       "648          삼성동           삼성역        주문진 생태찌개       NaN        NaN\n",
       "649          관훈동           종각역            부산식당       NaN        NaN\n",
       "650          잠실동           신천역          알천생태찌개       NaN        NaN"
      ],
      "text/html": "<div>\n<style scoped>\n    .dataframe tbody tr th:only-of-type {\n        vertical-align: middle;\n    }\n\n    .dataframe tbody tr th {\n        vertical-align: top;\n    }\n\n    .dataframe thead th {\n        text-align: right;\n    }\n</style>\n<table border=\"1\" class=\"dataframe\">\n  <thead>\n    <tr style=\"text-align: right;\">\n      <th></th>\n      <th>지역1</th>\n      <th>지역2</th>\n      <th>음식점</th>\n      <th>음식 상세 기타</th>\n      <th>Unnamed: 4</th>\n    </tr>\n  </thead>\n  <tbody>\n    <tr>\n      <th>600</th>\n      <td>주교동</td>\n      <td>을지로 4가역</td>\n      <td>보건옥</td>\n      <td>NaN</td>\n      <td>NaN</td>\n    </tr>\n    <tr>\n      <th>601</th>\n      <td>저동</td>\n      <td>을지로 3가역</td>\n      <td>평래옥</td>\n      <td>NaN</td>\n      <td>NaN</td>\n    </tr>\n    <tr>\n      <th>602</th>\n      <td>수유동</td>\n      <td>수유역</td>\n      <td>샘터마루</td>\n      <td>NaN</td>\n      <td>NaN</td>\n    </tr>\n    <tr>\n      <th>603</th>\n      <td>대치동</td>\n      <td>한티역</td>\n      <td>외고집 설렁탕</td>\n      <td>NaN</td>\n      <td>NaN</td>\n    </tr>\n    <tr>\n      <th>604</th>\n      <td>청파동</td>\n      <td>숙대입구역</td>\n      <td>더함</td>\n      <td>NaN</td>\n      <td>NaN</td>\n    </tr>\n    <tr>\n      <th>605</th>\n      <td>등촌동</td>\n      <td>증미역</td>\n      <td>명랑식당 울점</td>\n      <td>NaN</td>\n      <td>NaN</td>\n    </tr>\n    <tr>\n      <th>606</th>\n      <td>주교동</td>\n      <td>을지로 4가역</td>\n      <td>우래</td>\n      <td>NaN</td>\n      <td>NaN</td>\n    </tr>\n    <tr>\n      <th>607</th>\n      <td>용강동</td>\n      <td>마포역</td>\n      <td>역전회관</td>\n      <td>NaN</td>\n      <td>NaN</td>\n    </tr>\n    <tr>\n      <th>608</th>\n      <td>신사동</td>\n      <td>압구정역</td>\n      <td>한일관</td>\n      <td>NaN</td>\n      <td>NaN</td>\n    </tr>\n    <tr>\n      <th>609</th>\n      <td>석촌동</td>\n      <td>석촌역</td>\n      <td>사계진미</td>\n      <td>NaN</td>\n      <td>NaN</td>\n    </tr>\n    <tr>\n      <th>610</th>\n      <td>사당동</td>\n      <td>이수역</td>\n      <td>부엌쟁이</td>\n      <td>NaN</td>\n      <td>NaN</td>\n    </tr>\n    <tr>\n      <th>611</th>\n      <td>관훈동</td>\n      <td>종로 3가역</td>\n      <td>인사면옥</td>\n      <td>NaN</td>\n      <td>NaN</td>\n    </tr>\n    <tr>\n      <th>612</th>\n      <td>청담동</td>\n      <td>압구정 로데오역</td>\n      <td>장마담한우</td>\n      <td>NaN</td>\n      <td>NaN</td>\n    </tr>\n    <tr>\n      <th>613</th>\n      <td>역삼동</td>\n      <td>선릉역</td>\n      <td>서울전통육개장</td>\n      <td>NaN</td>\n      <td>NaN</td>\n    </tr>\n    <tr>\n      <th>614</th>\n      <td>성내동</td>\n      <td>강동구청역</td>\n      <td>서울육개장 짚불고기</td>\n      <td>NaN</td>\n      <td>NaN</td>\n    </tr>\n    <tr>\n      <th>615</th>\n      <td>성내동</td>\n      <td>둔촌동역</td>\n      <td>수향식당</td>\n      <td>NaN</td>\n      <td>NaN</td>\n    </tr>\n    <tr>\n      <th>616</th>\n      <td>가산동</td>\n      <td>가산디지털단지역</td>\n      <td>육개장인</td>\n      <td>NaN</td>\n      <td>NaN</td>\n    </tr>\n    <tr>\n      <th>617</th>\n      <td>육대장</td>\n      <td>NaN</td>\n      <td>육대장</td>\n      <td>NaN</td>\n      <td>NaN</td>\n    </tr>\n    <tr>\n      <th>618</th>\n      <td>홍익 궁중전통육개장</td>\n      <td>NaN</td>\n      <td>홍익 궁중전통육개장</td>\n      <td>NaN</td>\n      <td>NaN</td>\n    </tr>\n    <tr>\n      <th>619</th>\n      <td>이화수 전통육개장</td>\n      <td>NaN</td>\n      <td>이화수 전통육개장</td>\n      <td>NaN</td>\n      <td>NaN</td>\n    </tr>\n    <tr>\n      <th>620</th>\n      <td>조선의 육개장 칼국수</td>\n      <td>NaN</td>\n      <td>조선의 육개장 칼국수</td>\n      <td>NaN</td>\n      <td>NaN</td>\n    </tr>\n    <tr>\n      <th>621</th>\n      <td>송추가마골</td>\n      <td>NaN</td>\n      <td>송추가마골</td>\n      <td>NaN</td>\n      <td>NaN</td>\n    </tr>\n    <tr>\n      <th>622</th>\n      <td>만개장</td>\n      <td>NaN</td>\n      <td>만개장</td>\n      <td>NaN</td>\n      <td>NaN</td>\n    </tr>\n    <tr>\n      <th>623</th>\n      <td>도화동</td>\n      <td>마포역</td>\n      <td>서울큰입탕</td>\n      <td>NaN</td>\n      <td>NaN</td>\n    </tr>\n    <tr>\n      <th>624</th>\n      <td>충현동</td>\n      <td>충정로역, 서대문역</td>\n      <td>대원대구매운탕</td>\n      <td>NaN</td>\n      <td>NaN</td>\n    </tr>\n    <tr>\n      <th>625</th>\n      <td>동교동</td>\n      <td>홍대입구역</td>\n      <td>섬소년 자연주의 매운탕</td>\n      <td>NaN</td>\n      <td>NaN</td>\n    </tr>\n    <tr>\n      <th>626</th>\n      <td>한강로 1가</td>\n      <td>삼각지역</td>\n      <td>원대구탕</td>\n      <td>NaN</td>\n      <td>NaN</td>\n    </tr>\n    <tr>\n      <th>627</th>\n      <td>한강로 1가</td>\n      <td>삼각지역</td>\n      <td>자원대구탕</td>\n      <td>NaN</td>\n      <td>NaN</td>\n    </tr>\n    <tr>\n      <th>628</th>\n      <td>한강로 1가</td>\n      <td>삼각지역</td>\n      <td>참대구탕</td>\n      <td>NaN</td>\n      <td>NaN</td>\n    </tr>\n    <tr>\n      <th>629</th>\n      <td>여의도동</td>\n      <td>여의도역</td>\n      <td>동해대구탕</td>\n      <td>NaN</td>\n      <td>NaN</td>\n    </tr>\n    <tr>\n      <th>630</th>\n      <td>여의도동</td>\n      <td>국회의사당역</td>\n      <td>뒤푸리</td>\n      <td>NaN</td>\n      <td>NaN</td>\n    </tr>\n    <tr>\n      <th>631</th>\n      <td>여의도동</td>\n      <td>여의도역</td>\n      <td>신송한식</td>\n      <td>NaN</td>\n      <td>NaN</td>\n    </tr>\n    <tr>\n      <th>632</th>\n      <td>예지동</td>\n      <td>종로 5가역</td>\n      <td>은성횟집</td>\n      <td>NaN</td>\n      <td>NaN</td>\n    </tr>\n    <tr>\n      <th>633</th>\n      <td>초동</td>\n      <td>충무로역</td>\n      <td>우정집</td>\n      <td>NaN</td>\n      <td>NaN</td>\n    </tr>\n    <tr>\n      <th>634</th>\n      <td>봉천동</td>\n      <td>봉천역</td>\n      <td>갯바위</td>\n      <td>NaN</td>\n      <td>NaN</td>\n    </tr>\n    <tr>\n      <th>635</th>\n      <td>논현동</td>\n      <td>논현역</td>\n      <td>세창대구탕</td>\n      <td>NaN</td>\n      <td>NaN</td>\n    </tr>\n    <tr>\n      <th>636</th>\n      <td>서린동</td>\n      <td>광화문역</td>\n      <td>원대구탕</td>\n      <td>NaN</td>\n      <td>NaN</td>\n    </tr>\n    <tr>\n      <th>637</th>\n      <td>성내동</td>\n      <td>둔촌동역</td>\n      <td>성내볼데기집</td>\n      <td>NaN</td>\n      <td>NaN</td>\n    </tr>\n    <tr>\n      <th>638</th>\n      <td>문래동</td>\n      <td>문래역</td>\n      <td>문래대구탕</td>\n      <td>NaN</td>\n      <td>NaN</td>\n    </tr>\n    <tr>\n      <th>639</th>\n      <td>용강동</td>\n      <td>마포역</td>\n      <td>참식당</td>\n      <td>NaN</td>\n      <td>NaN</td>\n    </tr>\n    <tr>\n      <th>640</th>\n      <td>개포동</td>\n      <td>양재시민의숲역</td>\n      <td>미가</td>\n      <td>NaN</td>\n      <td>NaN</td>\n    </tr>\n    <tr>\n      <th>641</th>\n      <td>명동</td>\n      <td>명동역</td>\n      <td>원조한치</td>\n      <td>NaN</td>\n      <td>NaN</td>\n    </tr>\n    <tr>\n      <th>642</th>\n      <td>서교동</td>\n      <td>합정역</td>\n      <td>춘자대구탕</td>\n      <td>NaN</td>\n      <td>NaN</td>\n    </tr>\n    <tr>\n      <th>643</th>\n      <td>동자동</td>\n      <td>서울역</td>\n      <td>맛고마대구탕</td>\n      <td>NaN</td>\n      <td>NaN</td>\n    </tr>\n    <tr>\n      <th>644</th>\n      <td>신당동</td>\n      <td>신당역</td>\n      <td>양푼이 생대구탕</td>\n      <td>NaN</td>\n      <td>NaN</td>\n    </tr>\n    <tr>\n      <th>645</th>\n      <td>한강로 1가</td>\n      <td>삼각지역</td>\n      <td>한강생태</td>\n      <td>NaN</td>\n      <td>NaN</td>\n    </tr>\n    <tr>\n      <th>646</th>\n      <td>용강동</td>\n      <td>마포역</td>\n      <td>진미생태찌개</td>\n      <td>NaN</td>\n      <td>NaN</td>\n    </tr>\n    <tr>\n      <th>647</th>\n      <td>삼성동</td>\n      <td>삼성역</td>\n      <td>아야진 생태찌개</td>\n      <td>NaN</td>\n      <td>NaN</td>\n    </tr>\n    <tr>\n      <th>648</th>\n      <td>삼성동</td>\n      <td>삼성역</td>\n      <td>주문진 생태찌개</td>\n      <td>NaN</td>\n      <td>NaN</td>\n    </tr>\n    <tr>\n      <th>649</th>\n      <td>관훈동</td>\n      <td>종각역</td>\n      <td>부산식당</td>\n      <td>NaN</td>\n      <td>NaN</td>\n    </tr>\n    <tr>\n      <th>650</th>\n      <td>잠실동</td>\n      <td>신천역</td>\n      <td>알천생태찌개</td>\n      <td>NaN</td>\n      <td>NaN</td>\n    </tr>\n  </tbody>\n</table>\n</div>"
     },
     "metadata": {},
     "execution_count": 30
    }
   ],
   "source": [
    "mList.loc[600:650,:]"
   ]
  },
  {
   "cell_type": "code",
   "execution_count": 15,
   "metadata": {
    "tags": []
   },
   "outputs": [],
   "source": [
    "matList = mList['음식점'].dropna"
   ]
  },
  {
   "cell_type": "code",
   "execution_count": 16,
   "metadata": {},
   "outputs": [
    {
     "output_type": "execute_result",
     "data": {
      "text/plain": [
       "<bound method Series.dropna of 0            을지면옥 \n",
       "1        논현동 평양면옥 \n",
       "2             우래옥 \n",
       "3          봉피양 본점 \n",
       "4            필동면옥 \n",
       "           ...    \n",
       "6895         카페루고 \n",
       "6896         루하커피 \n",
       "6897        커피몽타주 \n",
       "6898      팩토리 670 \n",
       "6899       카페인 신현리\n",
       "Name: 음식점, Length: 6900, dtype: object>"
      ]
     },
     "metadata": {},
     "execution_count": 16
    }
   ],
   "source": [
    "matList"
   ]
  },
  {
   "cell_type": "code",
   "execution_count": 32,
   "metadata": {},
   "outputs": [
    {
     "output_type": "stream",
     "name": "stdout",
     "text": [
      "https://search.naver.com/search.naver?where=image&sm=tab_jum&query= 을지면옥 \n",
      "scrolling\n",
      "downloading\n",
      "다운로드 완료\n",
      "https://search.naver.com/search.naver?where=image&sm=tab_jum&query= 논현동 평양면옥 \n",
      "scrolling\n",
      "downloading\n",
      "다운로드 완료\n",
      "https://search.naver.com/search.naver?where=image&sm=tab_jum&query= 우래옥 \n",
      "scrolling\n",
      "downloading\n",
      "다운로드 완료\n",
      "https://search.naver.com/search.naver?where=image&sm=tab_jum&query= 봉피양 본점 \n",
      "scrolling\n",
      "downloading\n",
      "다운로드 완료\n",
      "https://search.naver.com/search.naver?where=image&sm=tab_jum&query= 필동면옥 \n",
      "scrolling\n",
      "downloading\n",
      "다운로드 완료\n",
      "https://search.naver.com/search.naver?where=image&sm=tab_jum&query= 장충동 평양면옥 \n",
      "scrolling\n",
      "downloading\n",
      "다운로드 완료\n",
      "https://search.naver.com/search.naver?where=image&sm=tab_jum&query= 강서면옥 압구정점 \n",
      "scrolling\n",
      "downloading\n",
      "다운로드 완료\n",
      "https://search.naver.com/search.naver?where=image&sm=tab_jum&query= 잠원동 본가 평양면옥 \n",
      "scrolling\n",
      "downloading\n",
      "다운로드 완료\n",
      "https://search.naver.com/search.naver?where=image&sm=tab_jum&query= 을밀대 본점 \n",
      "scrolling\n",
      "downloading\n",
      "다운로드 완료\n",
      "https://search.naver.com/search.naver?where=image&sm=tab_jum&query= 정인면옥 여의도점 \n",
      "scrolling\n",
      "downloading\n",
      "다운로드 완료\n",
      "https://search.naver.com/search.naver?where=image&sm=tab_jum&query= 장충동 평양면옥 도곡동점 \n",
      "scrolling\n",
      "downloading\n",
      "다운로드 완료\n",
      "https://search.naver.com/search.naver?where=image&sm=tab_jum&query= 을밀대 강남점 \n",
      "scrolling\n",
      "downloading\n",
      "다운로드 완료\n",
      "https://search.naver.com/search.naver?where=image&sm=tab_jum&query= 금왕평양면옥 \n",
      "scrolling\n",
      "downloading\n",
      "다운로드 완료\n",
      "https://search.naver.com/search.naver?where=image&sm=tab_jum&query= 강서면옥 본점 \n",
      "scrolling\n",
      "downloading\n",
      "다운로드 완료\n",
      "https://search.naver.com/search.naver?where=image&sm=tab_jum&query= 남포면옥 \n",
      "scrolling\n",
      "downloading\n",
      "다운로드 완료\n",
      "https://search.naver.com/search.naver?where=image&sm=tab_jum&query= 서북면옥 \n",
      "scrolling\n",
      "downloading\n",
      "다운로드 완료\n",
      "https://search.naver.com/search.naver?where=image&sm=tab_jum&query= 부원면옥 \n",
      "scrolling\n",
      "downloading\n",
      "다운로드 완료\n",
      "https://search.naver.com/search.naver?where=image&sm=tab_jum&query= 평래옥 \n",
      "scrolling\n",
      "downloading\n",
      "다운로드 완료\n",
      "https://search.naver.com/search.naver?where=image&sm=tab_jum&query= 유진식당 \n",
      "scrolling\n",
      "downloading\n",
      "다운로드 완료\n",
      "https://search.naver.com/search.naver?where=image&sm=tab_jum&query= 오류동 평양냉면 \n",
      "scrolling\n",
      "downloading\n",
      "다운로드 완료\n",
      "https://search.naver.com/search.naver?where=image&sm=tab_jum&query= 남포면옥 강남점 \n",
      "scrolling\n",
      "downloading\n",
      "다운로드 완료\n",
      "https://search.naver.com/search.naver?where=image&sm=tab_jum&query=평가옥\n",
      "scrolling\n",
      "downloading\n",
      "다운로드 완료\n",
      "https://search.naver.com/search.naver?where=image&sm=tab_jum&query= 만포면옥 \n",
      "scrolling\n",
      "downloading\n",
      "다운로드 완료\n",
      "https://search.naver.com/search.naver?where=image&sm=tab_jum&query= 제기동 평양냉면 \n",
      "scrolling\n",
      "downloading\n",
      "다운로드 완료\n",
      "https://search.naver.com/search.naver?where=image&sm=tab_jum&query= 삼도갈비 석촌호수점 \n",
      "scrolling\n",
      "downloading\n",
      "다운로드 완료\n",
      "https://search.naver.com/search.naver?where=image&sm=tab_jum&query= 한아람 정육식당 \n",
      "scrolling\n",
      "downloading\n",
      "다운로드 완료\n",
      "https://search.naver.com/search.naver?where=image&sm=tab_jum&query= 능라도 강남점 \n",
      "scrolling\n",
      "downloading\n",
      "다운로드 완료\n",
      "https://search.naver.com/search.naver?where=image&sm=tab_jum&query= 대동관 강서점 \n",
      "scrolling\n",
      "downloading\n",
      "다운로드 완료\n",
      "https://search.naver.com/search.naver?where=image&sm=tab_jum&query= 동무밥상 \n",
      "scrolling\n",
      "downloading\n",
      "다운로드 완료\n",
      "https://search.naver.com/search.naver?where=image&sm=tab_jum&query= 무삼면옥 \n",
      "scrolling\n",
      "downloading\n",
      "다운로드 완료\n",
      "https://search.naver.com/search.naver?where=image&sm=tab_jum&query= 배꼽집 본점 \n",
      "scrolling\n",
      "downloading\n",
      "다운로드 완료\n",
      "https://search.naver.com/search.naver?where=image&sm=tab_jum&query= 배꼽집 상암점 \n",
      "scrolling\n",
      "downloading\n",
      "다운로드 완료\n",
      "https://search.naver.com/search.naver?where=image&sm=tab_jum&query= 평택 고여사집 냉면 \n",
      "scrolling\n",
      "downloading\n",
      "다운로드 완료\n",
      "https://search.naver.com/search.naver?where=image&sm=tab_jum&query= 두리 \n",
      "scrolling\n",
      "downloading\n",
      "다운로드 완료\n",
      "https://search.naver.com/search.naver?where=image&sm=tab_jum&query= 장수원 \n",
      "scrolling\n"
     ]
    },
    {
     "output_type": "error",
     "ename": "KeyboardInterrupt",
     "evalue": "",
     "traceback": [
      "\u001b[0;31m---------------------------------------------------------------------------\u001b[0m",
      "\u001b[0;31mKeyboardInterrupt\u001b[0m                         Traceback (most recent call last)",
      "\u001b[0;32m<ipython-input-32-c6c600aa5854>\u001b[0m in \u001b[0;36m<module>\u001b[0;34m\u001b[0m\n\u001b[1;32m      1\u001b[0m \u001b[0;32mfor\u001b[0m \u001b[0msearchKeyword\u001b[0m \u001b[0;32min\u001b[0m \u001b[0mmList\u001b[0m\u001b[0;34m[\u001b[0m\u001b[0;34m'음식점'\u001b[0m\u001b[0;34m]\u001b[0m\u001b[0;34m:\u001b[0m\u001b[0;34m\u001b[0m\u001b[0;34m\u001b[0m\u001b[0m\n\u001b[0;32m----> 2\u001b[0;31m     \u001b[0mcrawling\u001b[0m\u001b[0;34m.\u001b[0m\u001b[0mrunCrawling\u001b[0m\u001b[0;34m(\u001b[0m\u001b[0msearchKeyword\u001b[0m\u001b[0;34m,\u001b[0m \u001b[0mosType\u001b[0m\u001b[0;34m=\u001b[0m\u001b[0;34m'mac'\u001b[0m\u001b[0;34m)\u001b[0m\u001b[0;34m\u001b[0m\u001b[0;34m\u001b[0m\u001b[0m\n\u001b[0m",
      "\u001b[0;32m~/Documents/MatjipProject/forGitMatjip/crowling/CrawlingNaver.py\u001b[0m in \u001b[0;36mrunCrawling\u001b[0;34m(self, searchKeyword, osType)\u001b[0m\n\u001b[1;32m     48\u001b[0m                 browser.execute_script(\n\u001b[1;32m     49\u001b[0m                     \"window.scrollTo(0, document.documentElement.scrollHeight);\")\n\u001b[0;32m---> 50\u001b[0;31m                 \u001b[0mtime\u001b[0m\u001b[0;34m.\u001b[0m\u001b[0msleep\u001b[0m\u001b[0;34m(\u001b[0m\u001b[0;36m3.0\u001b[0m\u001b[0;34m)\u001b[0m\u001b[0;34m\u001b[0m\u001b[0;34m\u001b[0m\u001b[0m\n\u001b[0m\u001b[1;32m     51\u001b[0m                 new_page_height = browser.execute_script(\n\u001b[1;32m     52\u001b[0m                     \"return document.documentElement.scrollHeight\")\n",
      "\u001b[0;31mKeyboardInterrupt\u001b[0m: "
     ]
    }
   ],
   "source": [
    "for searchKeyword in mList['음식점']:\n",
    "    crawling.runCrawling(searchKeyword, osType='mac')"
   ]
  },
  {
   "cell_type": "code",
   "execution_count": null,
   "metadata": {},
   "outputs": [],
   "source": []
  }
 ]
}