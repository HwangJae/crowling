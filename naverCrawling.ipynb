{
 "metadata": {
  "language_info": {
   "codemirror_mode": {
    "name": "ipython",
    "version": 3
   },
   "file_extension": ".py",
   "mimetype": "text/x-python",
   "name": "python",
   "nbconvert_exporter": "python",
   "pygments_lexer": "ipython3",
   "version": "3.7.6-final"
  },
  "orig_nbformat": 2,
  "kernelspec": {
   "name": "python3",
   "display_name": "Python 3"
  }
 },
 "nbformat": 4,
 "nbformat_minor": 2,
 "cells": [
  {
   "cell_type": "code",
   "execution_count": 1,
   "metadata": {},
   "outputs": [],
   "source": [
    "from CrawlingNaver import naverCrawling"
   ]
  },
  {
   "cell_type": "code",
   "execution_count": 2,
   "metadata": {},
   "outputs": [],
   "source": [
    "crawling = naverCrawling()"
   ]
  },
  {
   "cell_type": "code",
   "execution_count": 3,
   "metadata": {},
   "outputs": [],
   "source": [
    "import pandas as pd"
   ]
  },
  {
   "cell_type": "code",
   "execution_count": 4,
   "metadata": {},
   "outputs": [],
   "source": [
    "mList = pd.read_excel('맛집리스트_전처리중.xlsx')"
   ]
  },
  {
   "cell_type": "code",
   "execution_count": 25,
   "metadata": {},
   "outputs": [
    {
     "output_type": "execute_result",
     "data": {
      "text/plain": [
       "0               을지면옥 \n",
       "1           논현동 평양면옥 \n",
       "2                우래옥 \n",
       "3             봉피양 본점 \n",
       "4               필동면옥 \n",
       "5           장충동 평양면옥 \n",
       "6          강서면옥 압구정점 \n",
       "7        잠원동 본가 평양면옥 \n",
       "8             을밀대 본점 \n",
       "9          정인면옥 여의도점 \n",
       "10     장충동 평양면옥 도곡동점 \n",
       "11           을밀대 강남점 \n",
       "12            금왕평양면옥 \n",
       "13           강서면옥 본점 \n",
       "14              남포면옥 \n",
       "15              서북면옥 \n",
       "16              부원면옥 \n",
       "17               평래옥 \n",
       "18              유진식당 \n",
       "19          오류동 평양냉면 \n",
       "20          남포면옥 강남점 \n",
       "21                평가옥\n",
       "22              만포면옥 \n",
       "23          제기동 평양냉면 \n",
       "24        삼도갈비 석촌호수점 \n",
       "25          한아람 정육식당 \n",
       "26           능라도 강남점 \n",
       "27           대동관 강서점 \n",
       "28              동무밥상 \n",
       "29              무삼면옥 \n",
       "30            배꼽집 본점 \n",
       "31           배꼽집 상암점 \n",
       "32        평택 고여사집 냉면 \n",
       "33                두리 \n",
       "34               장수원 \n",
       "35           진미 평양냉면 \n",
       "36               봉밀가 \n",
       "37              서경도락 \n",
       "38               달고나 \n",
       "39              능라밥상 \n",
       "Name: 음식점, dtype: object"
      ]
     },
     "metadata": {},
     "execution_count": 25
    }
   ],
   "source": [
    "mList['음식점'].head(40)"
   ]
  },
  {
   "cell_type": "code",
   "execution_count": 6,
   "metadata": {
    "tags": []
   },
   "outputs": [],
   "source": [
    "matList = mList['음식점']"
   ]
  },
  {
   "cell_type": "code",
   "execution_count": 7,
   "metadata": {},
   "outputs": [
    {
     "output_type": "execute_result",
     "data": {
      "text/plain": [
       "<bound method Series.dropna of 0            을지면옥 \n",
       "1        논현동 평양면옥 \n",
       "2             우래옥 \n",
       "3          봉피양 본점 \n",
       "4            필동면옥 \n",
       "           ...    \n",
       "6895         카페루고 \n",
       "6896         루하커피 \n",
       "6897        커피몽타주 \n",
       "6898      팩토리 670 \n",
       "6899       카페인 신현리\n",
       "Name: 음식점, Length: 6900, dtype: object>"
      ]
     },
     "metadata": {},
     "execution_count": 7
    }
   ],
   "source": [
    "matList"
   ]
  },
  {
   "cell_type": "code",
   "execution_count": 27,
   "metadata": {},
   "outputs": [
    {
     "output_type": "stream",
     "name": "stdout",
     "text": [
      "0\n",
      "https://search.naver.com/search.naver?where=image&sm=tab_jum&query= 을지면옥 \n",
      "scrolling\n"
     ]
    },
    {
     "output_type": "error",
     "ename": "KeyboardInterrupt",
     "evalue": "",
     "traceback": [
      "\u001b[0;31m---------------------------------------------------------------------------\u001b[0m",
      "\u001b[0;31mKeyboardInterrupt\u001b[0m                         Traceback (most recent call last)",
      "\u001b[0;32m<ipython-input-27-cc784949c15e>\u001b[0m in \u001b[0;36m<module>\u001b[0;34m\u001b[0m\n\u001b[1;32m      4\u001b[0m     \u001b[0;32melse\u001b[0m\u001b[0;34m:\u001b[0m\u001b[0;34m\u001b[0m\u001b[0;34m\u001b[0m\u001b[0m\n\u001b[1;32m      5\u001b[0m         \u001b[0mprint\u001b[0m\u001b[0;34m(\u001b[0m\u001b[0mi\u001b[0m\u001b[0;34m)\u001b[0m\u001b[0;34m\u001b[0m\u001b[0;34m\u001b[0m\u001b[0m\n\u001b[0;32m----> 6\u001b[0;31m         \u001b[0mcrawling\u001b[0m\u001b[0;34m.\u001b[0m\u001b[0mrunCrawling\u001b[0m\u001b[0;34m(\u001b[0m\u001b[0msearchKeyword\u001b[0m\u001b[0;34m,\u001b[0m \u001b[0mosType\u001b[0m\u001b[0;34m=\u001b[0m\u001b[0;34m'mac'\u001b[0m\u001b[0;34m)\u001b[0m\u001b[0;34m\u001b[0m\u001b[0;34m\u001b[0m\u001b[0m\n\u001b[0m",
      "\u001b[0;32m~/Documents/MatjipProject/forGitMatjip/crowling/CrawlingNaver.py\u001b[0m in \u001b[0;36mrunCrawling\u001b[0;34m(self, searchKeyword, osType)\u001b[0m\n\u001b[1;32m     48\u001b[0m                 .execute_script(\n\u001b[1;32m     49\u001b[0m                     \"window.scrollTo(0, document.documentElement.scrollHeight);\")\n\u001b[0;32m---> 50\u001b[0;31m                 \u001b[0mtime\u001b[0m\u001b[0;34m.\u001b[0m\u001b[0msleep\u001b[0m\u001b[0;34m(\u001b[0m\u001b[0;36m3.0\u001b[0m\u001b[0;34m)\u001b[0m\u001b[0;34m\u001b[0m\u001b[0;34m\u001b[0m\u001b[0m\n\u001b[0m\u001b[1;32m     51\u001b[0m                 new_page_height = browser.execute_script(\n\u001b[1;32m     52\u001b[0m                     \"return document.documentElement.scrollHeight\")\n",
      "\u001b[0;31mKeyboardInterrupt\u001b[0m: "
     ]
    }
   ],
   "source": [
    "for i,searchKeyword in enumerate(mList['음식점']):\n",
    "    if i > 34:\n",
    "        print(i)        \n",
    "    else:\n",
    "        print(i)\n",
    "        crawling.runCrawling(searchKeyword, osType='mac')\n"
   ]
  },
  {
   "cell_type": "code",
   "execution_count": null,
   "metadata": {},
   "outputs": [],
   "source": []
  }
 ]
}